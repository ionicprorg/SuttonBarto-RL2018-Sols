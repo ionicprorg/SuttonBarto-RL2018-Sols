{
  "nbformat": 4,
  "nbformat_minor": 0,
  "metadata": {
    "colab": {
      "name": "Racetrack-Monte Carlo Control.ipynb",
      "version": "0.3.2",
      "provenance": [],
      "collapsed_sections": [],
      "include_colab_link": true
    },
    "kernelspec": {
      "name": "python3",
      "display_name": "Python 3"
    }
  },
  "cells": [
    {
      "cell_type": "markdown",
      "metadata": {
        "id": "view-in-github",
        "colab_type": "text"
      },
      "source": [
        "<a href=\"https://colab.research.google.com/github/r7sy/SuttonBarto-RL2018-Sols/blob/master/Chapter%2005/Racetrack_Monte_Carlo_Control.ipynb\" target=\"_parent\"><img src=\"https://colab.research.google.com/assets/colab-badge.svg\" alt=\"Open In Colab\"/></a>"
      ]
    },
    {
      "metadata": {
        "id": "HnZnFrooyWr2",
        "colab_type": "text"
      },
      "cell_type": "markdown",
      "source": [
        "# Racetrack : Monte Carlo Control\n",
        "This notebook contains the solution  to exercise 5.12 from \"Reinforcement Learning an Introduction second edition\" by Richard S. Sutton and Andrew G. Barto. The exercise is defined in the book as follows:\n",
        ">*Exercise 5.12: Racetrack (programming)* Consider driving a race car around a turn\n",
        "like those shown in Figure 5.5. You want to go as fast as possible, but not so fast as\n",
        "to run o↵ the track. In our simplified racetrack, the car is at one of a discrete set of\n",
        "grid positions, the cells in the diagram. The velocity is also discrete, a number of grid\n",
        "cells moved horizontally and vertically per time step. The actions are increments to the\n",
        "velocity components. Each may be changed by +1, 1, or 0 in each step, for a total of\n",
        "nine (3 , 3) actions. Both velocity components are restricted to be nonnegative and less\n",
        "than 5, and they cannot both be zero except at the starting line. Each episode begins\n",
        "in one of the randomly selected start states with both velocity components zero and\n",
        "ends when the car crosses the finish line. The rewards are 1 for each step until the car\n",
        "crosses the finish line. If the car hits the track boundary, it is moved back to a random\n",
        "position on the starting line, both velocity components are reduced to zero, and the episode continues. Before updating the car’s location at each time step, check to see if\n",
        "the projected path of the car intersects the track boundary. If it intersects the finish line,\n",
        "the episode ends; if it intersects anywhere else, the car is considered to have hit the track\n",
        "boundary and is sent back to the starting line. To make the task more challenging, with\n",
        "probability 0.1 at each time step the velocity increments are both zero, independently of\n",
        "the intended increments. Apply a Monte Carlo control method to this task to compute\n",
        "the optimal policy from each starting state. Exhibit several trajectories following the\n",
        "optimal policy (but turn the noise off for these trajectories).\n",
        "\n",
        "The notebook implements the On-policy first-visit and every-vist Monte Carlo control algorithms described on page 101 of the book.\n",
        "\n",
        "Note:  $R_t$ is stored at index $t-1$ for the convenience of implementation."
      ]
    },
    {
      "metadata": {
        "id": "oep5xd-nC_Rr",
        "colab_type": "code",
        "colab": {}
      },
      "cell_type": "code",
      "source": [
        "import numpy as np\n",
        "import random as rand\n",
        "from abc import ABC, abstractmethod\n",
        "import matplotlib.pyplot as plt\n",
        "%matplotlib inline\n"
      ],
      "execution_count": 0,
      "outputs": []
    },
    {
      "metadata": {
        "id": "AU3o21FdDLzz",
        "colab_type": "code",
        "colab": {}
      },
      "cell_type": "code",
      "source": [
        "class Racetrack:\n",
        "  \n",
        "  def __init__(self,padding=5,number_of_starting_positions=5,\n",
        "               number_of_finishing_positions=5,shape=(20,20),noise=0.1):\n",
        "\n",
        "    self.padding=padding\n",
        "    self.number_of_starting_positions=number_of_starting_positions\n",
        "    self.number_of_finishing_positions=number_of_finishing_positions\n",
        "    self.racetrack=np.ones(shape=shape)\n",
        "    self.noise=noise\n",
        "    self.racetrack[self.padding:self.padding+self.number_of_starting_positions,\n",
        "                   self.padding:-(self.padding)]=0\n",
        "    self.racetrack[self.padding:,\n",
        "                   -(self.padding+self.number_of_finishing_positions):-(self.padding)]=0\n",
        "    self.goToStartingState()\n",
        "    \n",
        "    for i in range(self.padding):\n",
        "      self.racetrack[i,self.padding+1-i:-(self.padding+i)]=0\n",
        "  \n",
        "  def visualizeTrajectory(self,states=np.array([])):\n",
        "    #intended for short episodes only.\n",
        "    \n",
        "    fig=plt.figure()\n",
        "    plt.imshow(np.transpose((self.racetrack)),origin='lower')\n",
        "    plt.grid(False)\n",
        "    plt.axis('off')\n",
        "    states=np.array(states)\n",
        "    for i in range(len(states)):\n",
        "     \n",
        "      plt.scatter(states[i][0],states[i][1])\n",
        "    return fig\n",
        "    \n",
        "  def goToStartingState(self):\n",
        "    \n",
        "    #Samples and sets a new starting position, resets the velocities to zero.\n",
        "    self.position=np.array([np.random.randint(self.padding,\n",
        "                                              self.number_of_starting_positions+\\\n",
        "                                              self.padding,dtype=np.int),\n",
        "                                              self.padding])\n",
        "    self.velocity=np.array([0,0])\n",
        "    \n",
        "    \n",
        "  def performAction(self,action):\n",
        "    \n",
        "    next_vx=self.velocity[0]+action[0]\n",
        "    next_vy=self.velocity[1]+action[1]\n",
        "    \n",
        "    # Velocity can't go over 5\n",
        "    # Both velocities cannot be 0 at the same time\n",
        "    # Velocities can't be negative\n",
        "    # If all conditions are met apply the increments with probability : 1 - noise\n",
        "    if next_vx<=5 and next_vy<=5 and\\\n",
        "    (next_vx!=0 or next_vy!=0) and\\\n",
        "    next_vx>=0 and next_vy>=0 and\\\n",
        "    np.random.uniform()>self.noise :\n",
        "      self.velocity[0]+=action[0]\n",
        "      self.velocity[1]+=action[1]\n",
        "      \n",
        "    next_x=self.position[0]+self.velocity[0]\n",
        "    next_y=self.position[1]+self.velocity[1]\n",
        "    \n",
        "    # If the projected position intersects boundaries, go to starting position. \n",
        "    if next_x>=self.racetrack.shape[0] or\\\n",
        "       next_y>=self.racetrack.shape[1] or\\\n",
        "       self.racetrack[next_x,next_y]==1:\n",
        "      \n",
        "      self.goToStartingState()\n",
        "      return self.position,self.velocity,-1\n",
        "    \n",
        "    \n",
        "    self.position[0]+=self.velocity[0]\n",
        "    self.position[1]+=self.velocity[1]\n",
        "    \n",
        "    # Return reward 0 if the car reached the finish line\n",
        "    if self.position[0]==self.racetrack.shape[0]-1:\n",
        "      self.goToStartingState()\n",
        "      return (next_x,next_y),(next_vx,next_vy),0\n",
        "      \n",
        "    \n",
        "    \n",
        "    \n",
        "    return self.position,self.velocity,-1\n",
        "    "
      ],
      "execution_count": 0,
      "outputs": []
    },
    {
      "metadata": {
        "id": "iBS1wWKZRwAY",
        "colab_type": "code",
        "colab": {}
      },
      "cell_type": "code",
      "source": [
        "class MonteCarloAgent(ABC):\n",
        "  def __init__(self,track,gamma=0.9):\n",
        "    self.track=track\n",
        "    # Optimistic values of q to encourage exploration\n",
        "    self.q_values=np.zeros(self.track.racetrack.shape+(6,6,3,3))\n",
        "    self.number_of_returns_for_pair =np.zeros(shape=self.track.racetrack.shape+(6,6,3,3))\n",
        "    self.gamma=gamma\n",
        "    self.action_indices=[]\n",
        "    for i in range(3):\n",
        "      for j in range(3):\n",
        "        self.action_indices.append(np.array([i,j]))\n",
        "        \n",
        "  def epsilonGreedy(self,epsilon,state):\n",
        "    rand_number=np.random.uniform()\n",
        "    if rand_number>=epsilon:\n",
        "      greedy_action=self.action_indices[np.argmax(self.q_values[state[0],\n",
        "                                                                state[1],\n",
        "                                                                state[2],\n",
        "                                                                state[3],\n",
        "                                                                :,:])]\n",
        "      return greedy_action\n",
        "    return self.action_indices[np.random.randint(0,len(self.action_indices))]\n",
        "\n",
        "\n",
        "\n",
        "  def generateEpisode(self,epsilon):\n",
        "    states=[]\n",
        "    rewards=[]\n",
        "    actions=[]\n",
        "    i=0\n",
        "    while True:\n",
        "      states.append(np.append(self.track.position,self.track.velocity,axis=0))\n",
        "\n",
        "      i+=1\n",
        "      action_index=self.epsilonGreedy(epsilon,\n",
        "                                      np.concatenate([self.track.position,\\\n",
        "                                                      self.track.velocity]))\n",
        "      action = action_index-1\n",
        "      position,velocity,reward=self.track.performAction(action)\n",
        "      actions.append(action_index)\n",
        "      rewards.append(reward)\n",
        "      if reward==0:\n",
        "        states.append(np.append(position,velocity,axis=0))\n",
        "        break\n",
        "      if False and i>100:\n",
        "        break\n",
        "    return states,rewards,actions\n",
        "  @abstractmethod\n",
        "  def policyControl(self,number_of_episodes,epsilon):\n",
        "    pass\n",
        "      \n",
        "class FirstVisitMCAgent(MonteCarloAgent):\n",
        "    \n",
        "    def policyControl(self,number_of_episodes,epsilon):\n",
        "      episode_lens=np.zeros(number_of_episodes)\n",
        "      for i in range(number_of_episodes):\n",
        "\n",
        "        states,rewards,actions=self.generateEpisode(epsilon)\n",
        "        episode_lens[i]=len(states)\n",
        "        g=0.0\n",
        "        visited_pairs=[]\n",
        "        for t in range(len(states)-1):\n",
        "          visited_pairs.append(list(np.append(states[t],actions[t],axis=0)))\n",
        "          \n",
        "        for t in reversed(range(len(states)-1)):\n",
        "          g=self.gamma*g+rewards[t]\n",
        "\n",
        "          if  list(np.append(states[t],actions[t],axis=0))\\\n",
        "              not in visited_pairs[0:t]:\n",
        "\n",
        "            index=tuple(np.append(states[t],actions[t],axis=0))\n",
        "            self.number_of_returns_for_pair[index]+=1\n",
        "            n=self.number_of_returns_for_pair[index]\n",
        "            self.q_values[index]+=(1/n)*(g-self.q_values[index])\n",
        "      return episode_lens\n",
        "    \n",
        "class EveryVisitMCAgent(MonteCarloAgent):\n",
        "    \n",
        "    def policyControl(self,number_of_episodes,epsilon):\n",
        "      episode_lens=np.zeros(number_of_episodes)\n",
        "      for i in range(number_of_episodes):\n",
        "\n",
        "        states,rewards,actions=self.generateEpisode(epsilon)\n",
        "        episode_lens[i]=len(states)\n",
        "        g=0.0\n",
        "        \n",
        "        for t in reversed(range(len(states)-1)):\n",
        "          g=self.gamma*g+rewards[t]\n",
        "          index=tuple(np.append(states[t],actions[t],axis=0))\n",
        "          self.number_of_returns_for_pair[index]+=1\n",
        "          n=self.number_of_returns_for_pair[index]\n",
        "          self.q_values[index]+=(1/n)*(g-self.q_values[index])\n",
        "      return episode_lens\n"
      ],
      "execution_count": 0,
      "outputs": []
    },
    {
      "metadata": {
        "id": "pSDDv1mEdA03",
        "colab_type": "text"
      },
      "cell_type": "markdown",
      "source": [
        "Let's define and visualize a racetrack with 5 possible starting points and 5 possible finishing points."
      ]
    },
    {
      "metadata": {
        "id": "Ij-vBae-c_8n",
        "colab_type": "code",
        "colab": {
          "base_uri": "https://localhost:8080/",
          "height": 265
        },
        "outputId": "3021eab8-9923-4081-a458-36178396180e"
      },
      "cell_type": "code",
      "source": [
        "track= Racetrack(padding=1,number_of_finishing_positions=5,\n",
        "                 number_of_starting_positions=5,noise=0.1)\n",
        "track.visualizeTrajectory([]);"
      ],
      "execution_count": 4,
      "outputs": [
        {
          "output_type": "display_data",
          "data": {
            "image/png": "[encoded data removed]",
            "text/plain": [
              "<Figure size 432x288 with 1 Axes>"
            ]
          },
          "metadata": {
            "tags": []
          }
        }
      ]
    },
    {
      "metadata": {
        "id": "CuPemR2CdOVm",
        "colab_type": "text"
      },
      "cell_type": "markdown",
      "source": [
        "We run two MC control agents for 100000 episodes, one does first-visit updates and the other does every-visit updates"
      ]
    },
    {
      "metadata": {
        "id": "fQjqgijLDu4a",
        "colab_type": "code",
        "colab": {}
      },
      "cell_type": "code",
      "source": [
        "episodes_num=100000\n",
        "\n",
        "fv_agent= FirstVisitMCAgent(track)\n",
        "ev_agent= EveryVisitMCAgent(track)\n",
        "ep_lens_fv=fv_agent.policyControl(episodes_num,0.3)\n",
        "ep_lens_ev=ev_agent.policyControl(episodes_num,0.3)\n",
        "\n",
        "\n",
        "\n",
        "    "
      ],
      "execution_count": 0,
      "outputs": []
    },
    {
      "metadata": {
        "id": "ZjWS-D79ddDw",
        "colab_type": "text"
      },
      "cell_type": "markdown",
      "source": [
        "We remove the noise from the track\n"
      ]
    },
    {
      "metadata": {
        "id": "uUIzn7Q1YKLe",
        "colab_type": "code",
        "colab": {}
      },
      "cell_type": "code",
      "source": [
        "track.noise=0.0\n",
        "\n"
      ],
      "execution_count": 0,
      "outputs": []
    },
    {
      "metadata": {
        "id": "xymH8gSudh-T",
        "colab_type": "text"
      },
      "cell_type": "markdown",
      "source": [
        "A few episodes generated using the policy learned by the  first-visit MC control agent, exploration is turned off for these episodes\n"
      ]
    },
    {
      "metadata": {
        "id": "gShr1e0Zozke",
        "colab_type": "code",
        "outputId": "a610636f-9162-4b0b-e25e-d56ea54a7e11",
        "colab": {
          "base_uri": "https://localhost:8080/",
          "height": 1257
        }
      },
      "cell_type": "code",
      "source": [
        "for i in range(5):\n",
        "  states,rewards,actions=fv_agent.generateEpisode(0.0)\n",
        "  track.visualizeTrajectory(states);"
      ],
      "execution_count": 7,
      "outputs": [
        {
          "output_type": "display_data",
          "data": {
            "image/png": "[encoded data removed]",
            "text/plain": [
              "<Figure size 432x288 with 1 Axes>"
            ]
          },
          "metadata": {
            "tags": []
          }
        },
        {
          "output_type": "display_data",
          "data": {
            "image/png": "[encoded data removed]",
            "text/plain": [
              "<Figure size 432x288 with 1 Axes>"
            ]
          },
          "metadata": {
            "tags": []
          }
        },
        {
          "output_type": "display_data",
          "data": {
            "image/png": "[encoded data removed]",
            "text/plain": [
              "<Figure size 432x288 with 1 Axes>"
            ]
          },
          "metadata": {
            "tags": []
          }
        },
        {
          "output_type": "display_data",
          "data": {
            "image/png": "[encoded data removed]",
            "text/plain": [
              "<Figure size 432x288 with 1 Axes>"
            ]
          },
          "metadata": {
            "tags": []
          }
        },
        {
          "output_type": "display_data",
          "data": {
            "image/png": "[encoded data removed]",
            "text/plain": [
              "<Figure size 432x288 with 1 Axes>"
            ]
          },
          "metadata": {
            "tags": []
          }
        }
      ]
    },
    {
      "metadata": {
        "id": "GXuuI27Wduu4",
        "colab_type": "text"
      },
      "cell_type": "markdown",
      "source": [
        "A few episodes generated using the policy learned by the  every-visit MC control agent, exploration is turned off for these episodes\n"
      ]
    },
    {
      "metadata": {
        "id": "JmJnA5y8bMgG",
        "colab_type": "code",
        "outputId": "9f8f242c-f8af-4b91-d5a4-77ea7b340e1d",
        "colab": {
          "base_uri": "https://localhost:8080/",
          "height": 1257
        }
      },
      "cell_type": "code",
      "source": [
        "for i in range(5):\n",
        "  states,rewards,actions=ev_agent.generateEpisode(0.0)\n",
        "  track.visualizeTrajectory(states);"
      ],
      "execution_count": 8,
      "outputs": [
        {
          "output_type": "display_data",
          "data": {
            "image/png": "[encoded data removed]",
            "text/plain": [
              "<Figure size 432x288 with 1 Axes>"
            ]
          },
          "metadata": {
            "tags": []
          }
        },
        {
          "output_type": "display_data",
          "data": {
            "image/png": "[encoded data removed]",
            "text/plain": [
              "<Figure size 432x288 with 1 Axes>"
            ]
          },
          "metadata": {
            "tags": []
          }
        },
        {
          "output_type": "display_data",
          "data": {
            "image/png": "[encoded data removed]",
            "text/plain": [
              "<Figure size 432x288 with 1 Axes>"
            ]
          },
          "metadata": {
            "tags": []
          }
        },
        {
          "output_type": "display_data",
          "data": {
            "image/png": "[encoded data removed]",
            "text/plain": [
              "<Figure size 432x288 with 1 Axes>"
            ]
          },
          "metadata": {
            "tags": []
          }
        },
        {
          "output_type": "display_data",
          "data": {
            "image/png": "[encoded data removed]",
            "text/plain": [
              "<Figure size 432x288 with 1 Axes>"
            ]
          },
          "metadata": {
            "tags": []
          }
        }
      ]
    },
    {
      "metadata": {
        "id": "Rc4oVTtheqMf",
        "colab_type": "text"
      },
      "cell_type": "markdown",
      "source": [
        "Let's try a more difficult track, one with only 2 possible finishing points."
      ]
    },
    {
      "metadata": {
        "id": "hK_myS5ObOup",
        "colab_type": "code",
        "outputId": "031807d0-a3a1-457c-a3ff-2c4736e24150",
        "colab": {
          "base_uri": "https://localhost:8080/",
          "height": 265
        }
      },
      "cell_type": "code",
      "source": [
        "track= Racetrack(padding=1,number_of_finishing_positions=2,\n",
        "                 number_of_starting_positions=5,noise=0.1)\n",
        "track.visualizeTrajectory([]);"
      ],
      "execution_count": 9,
      "outputs": [
        {
          "output_type": "display_data",
          "data": {
            "image/png": "[encoded data removed]",
            "text/plain": [
              "<Figure size 432x288 with 1 Axes>"
            ]
          },
          "metadata": {
            "tags": []
          }
        }
      ]
    },
    {
      "metadata": {
        "id": "WPkj0pZrENg8",
        "colab_type": "code",
        "colab": {}
      },
      "cell_type": "code",
      "source": [
        "episodes_num=100000\n",
        "\n",
        "fv_agent= FirstVisitMCAgent(track)\n",
        "ev_agent= EveryVisitMCAgent(track)\n",
        "ep_lens_fv=fv_agent.policyControl(episodes_num,0.3)\n",
        "ep_lens_ev=ev_agent.policyControl(episodes_num,0.3)"
      ],
      "execution_count": 0,
      "outputs": []
    },
    {
      "metadata": {
        "id": "6Rk4uAq4ehMA",
        "colab_type": "code",
        "colab": {}
      },
      "cell_type": "code",
      "source": [
        "track.noise=0.0\n",
        "\n"
      ],
      "execution_count": 0,
      "outputs": []
    },
    {
      "metadata": {
        "id": "3riR04lAfBc8",
        "colab_type": "code",
        "colab": {
          "base_uri": "https://localhost:8080/",
          "height": 1257
        },
        "outputId": "4f938f21-0af0-440d-f737-f003c6aa0877"
      },
      "cell_type": "code",
      "source": [
        "for i in range(5):\n",
        "  states,rewards,actions=fv_agent.generateEpisode(0.0)\n",
        "  track.visualizeTrajectory(states);"
      ],
      "execution_count": 12,
      "outputs": [
        {
          "output_type": "display_data",
          "data": {
            "image/png": "[encoded data removed]",
            "text/plain": [
              "<Figure size 432x288 with 1 Axes>"
            ]
          },
          "metadata": {
            "tags": []
          }
        },
        {
          "output_type": "display_data",
          "data": {
            "image/png": "[encoded data removed]",
            "text/plain": [
              "<Figure size 432x288 with 1 Axes>"
            ]
          },
          "metadata": {
            "tags": []
          }
        },
        {
          "output_type": "display_data",
          "data": {
            "image/png": "[encoded data removed]",
            "text/plain": [
              "<Figure size 432x288 with 1 Axes>"
            ]
          },
          "metadata": {
            "tags": []
          }
        },
        {
          "output_type": "display_data",
          "data": {
            "image/png": "[encoded data removed]",
            "text/plain": [
              "<Figure size 432x288 with 1 Axes>"
            ]
          },
          "metadata": {
            "tags": []
          }
        },
        {
          "output_type": "display_data",
          "data": {
            "image/png": "[encoded data removed]",
            "text/plain": [
              "<Figure size 432x288 with 1 Axes>"
            ]
          },
          "metadata": {
            "tags": []
          }
        }
      ]
    },
    {
      "metadata": {
        "id": "0z_qJibZfDPi",
        "colab_type": "code",
        "colab": {
          "base_uri": "https://localhost:8080/",
          "height": 1257
        },
        "outputId": "33e49ced-ab39-4909-feac-f890639015bd"
      },
      "cell_type": "code",
      "source": [
        "for i in range(5):\n",
        "  states,rewards,actions=ev_agent.generateEpisode(0.0)\n",
        "  track.visualizeTrajectory(states);"
      ],
      "execution_count": 13,
      "outputs": [
        {
          "output_type": "display_data",
          "data": {
            "image/png": "[encoded data removed]",
            "text/plain": [
              "<Figure size 432x288 with 1 Axes>"
            ]
          },
          "metadata": {
            "tags": []
          }
        },
        {
          "output_type": "display_data",
          "data": {
            "image/png": "[encoded data removed]",
            "text/plain": [
              "<Figure size 432x288 with 1 Axes>"
            ]
          },
          "metadata": {
            "tags": []
          }
        },
        {
          "output_type": "display_data",
          "data": {
            "image/png": "[encoded data removed]",
            "text/plain": [
              "<Figure size 432x288 with 1 Axes>"
            ]
          },
          "metadata": {
            "tags": []
          }
        },
        {
          "output_type": "display_data",
          "data": {
            "image/png": "[encoded data removed]",
            "text/plain": [
              "<Figure size 432x288 with 1 Axes>"
            ]
          },
          "metadata": {
            "tags": []
          }
        },
        {
          "output_type": "display_data",
          "data": {
            "image/png": "[encoded data removed]",
            "text/plain": [
              "<Figure size 432x288 with 1 Axes>"
            ]
          },
          "metadata": {
            "tags": []
          }
        }
      ]
    }
  ]
}